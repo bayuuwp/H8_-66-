{
 "cells": [
  {
   "cell_type": "code",
   "execution_count": 1,
   "id": "acf912c8",
   "metadata": {},
   "outputs": [
    {
     "name": "stdout",
     "output_type": "stream",
     "text": [
      "Hello from the other side\n"
     ]
    }
   ],
   "source": [
    "print(\"Hello from the other side\")"
   ]
  },
  {
   "cell_type": "code",
   "execution_count": 2,
   "id": "e34e162f",
   "metadata": {},
   "outputs": [
    {
     "data": {
      "text/plain": [
       "4"
      ]
     },
     "execution_count": 2,
     "metadata": {},
     "output_type": "execute_result"
    }
   ],
   "source": [
    "2+2"
   ]
  },
  {
   "cell_type": "code",
   "execution_count": 4,
   "id": "e0ca1955",
   "metadata": {},
   "outputs": [
    {
     "data": {
      "text/plain": [
       "15.0"
      ]
     },
     "execution_count": 4,
     "metadata": {},
     "output_type": "execute_result"
    }
   ],
   "source": [
    "300/20"
   ]
  },
  {
   "cell_type": "markdown",
   "id": "357621fc",
   "metadata": {},
   "source": [
    "hehehehehehe markdown"
   ]
  },
  {
   "cell_type": "markdown",
   "id": "dd6e1d24",
   "metadata": {},
   "source": [
    "##title"
   ]
  },
  {
   "cell_type": "markdown",
   "id": "3c260d61",
   "metadata": {},
   "source": [
    "## title"
   ]
  },
  {
   "cell_type": "markdown",
   "id": "de069060",
   "metadata": {},
   "source": [
    "### subtitle"
   ]
  },
  {
   "cell_type": "code",
   "execution_count": 8,
   "id": "b98b4500",
   "metadata": {},
   "outputs": [
    {
     "data": {
      "text/plain": [
       "int"
      ]
     },
     "execution_count": 8,
     "metadata": {},
     "output_type": "execute_result"
    }
   ],
   "source": [
    "type(10004)"
   ]
  },
  {
   "cell_type": "code",
   "execution_count": 9,
   "id": "4fa01fa7",
   "metadata": {},
   "outputs": [
    {
     "name": "stdout",
     "output_type": "stream",
     "text": [
      "121212121212121232323232323234\n"
     ]
    }
   ],
   "source": [
    "print(121212121212121232323232323233 + 1)"
   ]
  },
  {
   "cell_type": "code",
   "execution_count": 11,
   "id": "8ca21b82",
   "metadata": {},
   "outputs": [
    {
     "name": "stdout",
     "output_type": "stream",
     "text": [
      "4.2\n"
     ]
    }
   ],
   "source": [
    "print(4.2)"
   ]
  },
  {
   "cell_type": "code",
   "execution_count": 12,
   "id": "840ccdf0",
   "metadata": {},
   "outputs": [
    {
     "name": "stdout",
     "output_type": "stream",
     "text": [
      "<class 'float'>\n"
     ]
    }
   ],
   "source": [
    "print(type(4.2))"
   ]
  },
  {
   "cell_type": "code",
   "execution_count": 13,
   "id": "b05a7cd9",
   "metadata": {},
   "outputs": [
    {
     "name": "stdout",
     "output_type": "stream",
     "text": [
      "3.9998\n"
     ]
    }
   ],
   "source": [
    "print(4-2e-4)"
   ]
  },
  {
   "cell_type": "code",
   "execution_count": 14,
   "id": "cb004ba2",
   "metadata": {},
   "outputs": [
    {
     "name": "stdout",
     "output_type": "stream",
     "text": [
      "<class 'float'>\n",
      "<class 'float'>\n",
      "<class 'float'>\n"
     ]
    }
   ],
   "source": [
    "print (type(4.2))\n",
    "print (type(4.2))\n",
    "print (type(4.2))"
   ]
  },
  {
   "cell_type": "markdown",
   "id": "a6ab0237",
   "metadata": {},
   "source": [
    "# string"
   ]
  },
  {
   "cell_type": "code",
   "execution_count": 16,
   "id": "e04160d7",
   "metadata": {},
   "outputs": [
    {
     "name": "stdout",
     "output_type": "stream",
     "text": [
      "Hactiv8\n",
      "<class 'str'>\n"
     ]
    }
   ],
   "source": [
    "print(\"Hactiv8\")\n",
    "print(type(\"hactiv8\"))"
   ]
  },
  {
   "cell_type": "code",
   "execution_count": 17,
   "id": "5337aac4",
   "metadata": {},
   "outputs": [
    {
     "name": "stdout",
     "output_type": "stream",
     "text": [
      "<class 'int'>\n"
     ]
    }
   ],
   "source": [
    "print(type(16))"
   ]
  },
  {
   "cell_type": "markdown",
   "id": "3d3d4ded",
   "metadata": {},
   "source": [
    "# boolean"
   ]
  },
  {
   "cell_type": "code",
   "execution_count": 22,
   "id": "c2cb9262",
   "metadata": {},
   "outputs": [
    {
     "name": "stdout",
     "output_type": "stream",
     "text": [
      "False\n",
      "<class 'bool'>\n"
     ]
    }
   ],
   "source": [
    "print(False)\n",
    "print(type(False))"
   ]
  },
  {
   "cell_type": "markdown",
   "id": "ede3dc10",
   "metadata": {},
   "source": [
    "# Variabel Assignment"
   ]
  },
  {
   "cell_type": "code",
   "execution_count": 23,
   "id": "a21e96e0",
   "metadata": {},
   "outputs": [],
   "source": [
    "n = 300"
   ]
  },
  {
   "cell_type": "code",
   "execution_count": 24,
   "id": "2f866ca2",
   "metadata": {},
   "outputs": [
    {
     "data": {
      "text/plain": [
       "300"
      ]
     },
     "execution_count": 24,
     "metadata": {},
     "output_type": "execute_result"
    }
   ],
   "source": [
    "n"
   ]
  },
  {
   "cell_type": "code",
   "execution_count": 26,
   "id": "4db75cd7",
   "metadata": {},
   "outputs": [],
   "source": [
    "ada_apa_dengan_cinta = \"hmmmm\""
   ]
  },
  {
   "cell_type": "code",
   "execution_count": 27,
   "id": "3ccec3a0",
   "metadata": {},
   "outputs": [
    {
     "data": {
      "text/plain": [
       "'hmmmm'"
      ]
     },
     "execution_count": 27,
     "metadata": {},
     "output_type": "execute_result"
    }
   ],
   "source": [
    "ada_apa_dengan_cinta"
   ]
  },
  {
   "cell_type": "code",
   "execution_count": 28,
   "id": "eae032a7",
   "metadata": {},
   "outputs": [],
   "source": [
    "n = 500"
   ]
  },
  {
   "cell_type": "code",
   "execution_count": 29,
   "id": "408bf40b",
   "metadata": {},
   "outputs": [
    {
     "name": "stdout",
     "output_type": "stream",
     "text": [
      "500\n"
     ]
    }
   ],
   "source": [
    "print(n)"
   ]
  },
  {
   "cell_type": "code",
   "execution_count": 30,
   "id": "eab6d733",
   "metadata": {},
   "outputs": [],
   "source": [
    "age = 1\n",
    "Age = 2\n",
    "AGE = 3"
   ]
  },
  {
   "cell_type": "code",
   "execution_count": 31,
   "id": "5b2bb782",
   "metadata": {},
   "outputs": [
    {
     "data": {
      "text/plain": [
       "(1, 3, 2)"
      ]
     },
     "execution_count": 31,
     "metadata": {},
     "output_type": "execute_result"
    }
   ],
   "source": [
    "age, AGE, Age"
   ]
  },
  {
   "cell_type": "code",
   "execution_count": 32,
   "id": "1486e3bb",
   "metadata": {},
   "outputs": [],
   "source": [
    "a = b = c = 300"
   ]
  },
  {
   "cell_type": "code",
   "execution_count": 33,
   "id": "34e3ed17",
   "metadata": {},
   "outputs": [
    {
     "data": {
      "text/plain": [
       "(300, 300, 300)"
      ]
     },
     "execution_count": 33,
     "metadata": {},
     "output_type": "execute_result"
    }
   ],
   "source": [
    "a, b, c"
   ]
  },
  {
   "cell_type": "markdown",
   "id": "fe980f53",
   "metadata": {},
   "source": [
    "# Variabel Type in PY"
   ]
  },
  {
   "cell_type": "code",
   "execution_count": 35,
   "id": "8666593e",
   "metadata": {},
   "outputs": [
    {
     "name": "stdout",
     "output_type": "stream",
     "text": [
      "23.5\n",
      "now im string\n"
     ]
    }
   ],
   "source": [
    "var = 23.5\n",
    "print(var)\n",
    "\n",
    "var = \"now im string\"\n",
    "print(var)"
   ]
  },
  {
   "cell_type": "markdown",
   "id": "2d27aaf6",
   "metadata": {},
   "source": [
    "# Variabel Names"
   ]
  },
  {
   "cell_type": "code",
   "execution_count": 40,
   "id": "b3846e26",
   "metadata": {},
   "outputs": [
    {
     "name": "stdout",
     "output_type": "stream",
     "text": [
      "hacktiv8 69 True\n"
     ]
    }
   ],
   "source": [
    "name = \"hacktiv8\"\n",
    "age = 69\n",
    "has_laptops = True\n",
    "print(name, age, has_laptops)"
   ]
  },
  {
   "cell_type": "markdown",
   "id": "8f79fd05",
   "metadata": {},
   "source": [
    "# Operators & expressions in PY"
   ]
  },
  {
   "cell_type": "code",
   "execution_count": 43,
   "id": "7dc7e1f8",
   "metadata": {},
   "outputs": [],
   "source": [
    "n = 10\n",
    "b = 20"
   ]
  },
  {
   "cell_type": "code",
   "execution_count": 45,
   "id": "9f5b0e25",
   "metadata": {},
   "outputs": [
    {
     "data": {
      "text/plain": [
       "30"
      ]
     },
     "execution_count": 45,
     "metadata": {},
     "output_type": "execute_result"
    }
   ],
   "source": [
    "n+b"
   ]
  },
  {
   "cell_type": "code",
   "execution_count": 46,
   "id": "e0fb4527",
   "metadata": {},
   "outputs": [
    {
     "data": {
      "text/plain": [
       "28"
      ]
     },
     "execution_count": 46,
     "metadata": {},
     "output_type": "execute_result"
    }
   ],
   "source": [
    "n+b-2"
   ]
  },
  {
   "cell_type": "code",
   "execution_count": 47,
   "id": "f883f678",
   "metadata": {},
   "outputs": [],
   "source": [
    "a = 4\n",
    "b = 3"
   ]
  },
  {
   "cell_type": "code",
   "execution_count": 48,
   "id": "d33a6aba",
   "metadata": {},
   "outputs": [
    {
     "name": "stdout",
     "output_type": "stream",
     "text": [
      "7\n",
      "1\n",
      "12\n",
      "1.3333333333333333\n",
      "1\n",
      "64\n"
     ]
    }
   ],
   "source": [
    "print(a + b)\n",
    "print(a - b)\n",
    "print(a * b)\n",
    "print(a / b)\n",
    "print(a % b)\n",
    "print(a ** b)"
   ]
  },
  {
   "cell_type": "code",
   "execution_count": 51,
   "id": "d998b085",
   "metadata": {},
   "outputs": [
    {
     "data": {
      "text/plain": [
       "2.0"
      ]
     },
     "execution_count": 51,
     "metadata": {},
     "output_type": "execute_result"
    }
   ],
   "source": [
    "10 / 5"
   ]
  },
  {
   "cell_type": "markdown",
   "id": "ce2945d8",
   "metadata": {},
   "source": [
    "# Comparison Operators"
   ]
  },
  {
   "cell_type": "code",
   "execution_count": 52,
   "id": "c565cdb1",
   "metadata": {},
   "outputs": [],
   "source": [
    "a = 10\n",
    "b = 20"
   ]
  },
  {
   "cell_type": "code",
   "execution_count": 53,
   "id": "6ce8157f",
   "metadata": {},
   "outputs": [
    {
     "data": {
      "text/plain": [
       "False"
      ]
     },
     "execution_count": 53,
     "metadata": {},
     "output_type": "execute_result"
    }
   ],
   "source": [
    "a == b"
   ]
  },
  {
   "cell_type": "code",
   "execution_count": 54,
   "id": "c7fea422",
   "metadata": {},
   "outputs": [
    {
     "data": {
      "text/plain": [
       "True"
      ]
     },
     "execution_count": 54,
     "metadata": {},
     "output_type": "execute_result"
    }
   ],
   "source": [
    "a != b"
   ]
  },
  {
   "cell_type": "code",
   "execution_count": 55,
   "id": "cb00d930",
   "metadata": {},
   "outputs": [
    {
     "data": {
      "text/plain": [
       "True"
      ]
     },
     "execution_count": 55,
     "metadata": {},
     "output_type": "execute_result"
    }
   ],
   "source": [
    "a <= b"
   ]
  },
  {
   "cell_type": "code",
   "execution_count": 57,
   "id": "e5247833",
   "metadata": {},
   "outputs": [
    {
     "data": {
      "text/plain": [
       "False"
      ]
     },
     "execution_count": 57,
     "metadata": {},
     "output_type": "execute_result"
    }
   ],
   "source": [
    "a >=b"
   ]
  },
  {
   "cell_type": "markdown",
   "id": "bfd5907e",
   "metadata": {},
   "source": [
    "# String Manipulation"
   ]
  },
  {
   "cell_type": "code",
   "execution_count": 58,
   "id": "711f678a",
   "metadata": {},
   "outputs": [],
   "source": [
    "s = \"foo\"\n",
    "t = \"bar\"\n",
    "u = \"baz\""
   ]
  },
  {
   "cell_type": "code",
   "execution_count": 61,
   "id": "4895290e",
   "metadata": {},
   "outputs": [
    {
     "name": "stdout",
     "output_type": "stream",
     "text": [
      "foobar\n",
      "barfoo\n",
      "hactiv8PTP\n"
     ]
    },
    {
     "data": {
      "text/plain": [
       "'foofoofoofoo'"
      ]
     },
     "execution_count": 61,
     "metadata": {},
     "output_type": "execute_result"
    }
   ],
   "source": [
    "print(s + t)\n",
    "print(t + s)\n",
    "print(\"hactiv8\" + \"PTP\")\n",
    "s * 4"
   ]
  },
  {
   "cell_type": "code",
   "execution_count": 62,
   "id": "5f486c60",
   "metadata": {},
   "outputs": [],
   "source": [
    "s = \"foo\""
   ]
  },
  {
   "cell_type": "code",
   "execution_count": 65,
   "id": "8ade2d33",
   "metadata": {},
   "outputs": [
    {
     "name": "stdout",
     "output_type": "stream",
     "text": [
      "False\n",
      "True\n"
     ]
    }
   ],
   "source": [
    "print(s in \"this is a good time\")\n",
    "print(s in \"hmm food\")"
   ]
  },
  {
   "cell_type": "markdown",
   "id": "a3bddf11",
   "metadata": {},
   "source": [
    "# Case Conversion"
   ]
  },
  {
   "cell_type": "code",
   "execution_count": 66,
   "id": "27c5db36",
   "metadata": {},
   "outputs": [],
   "source": [
    "s =\"bayu\""
   ]
  },
  {
   "cell_type": "code",
   "execution_count": 70,
   "id": "c3043e79",
   "metadata": {
    "scrolled": true
   },
   "outputs": [
    {
     "name": "stdout",
     "output_type": "stream",
     "text": [
      "Bayu\n",
      "bayu\n",
      "BAYU\n",
      "Bayu\n",
      "BAYU\n"
     ]
    }
   ],
   "source": [
    "#capitalize\n",
    "print(s.capitalize())\n",
    "print(s.lower())\n",
    "print(s.swapcase())\n",
    "print(s.title())\n",
    "print(s.upper())"
   ]
  },
  {
   "cell_type": "markdown",
   "id": "c26b787a",
   "metadata": {},
   "source": [
    "# Phyton List"
   ]
  },
  {
   "cell_type": "code",
   "execution_count": 71,
   "id": "efbf4798",
   "metadata": {},
   "outputs": [],
   "source": [
    "a = [\"foo\", \"bar\", \"exort\", \"quex\"]"
   ]
  },
  {
   "cell_type": "code",
   "execution_count": 72,
   "id": "6707dcee",
   "metadata": {},
   "outputs": [
    {
     "name": "stdout",
     "output_type": "stream",
     "text": [
      "['foo', 'bar', 'exort', 'quex']\n"
     ]
    }
   ],
   "source": [
    "print(a)"
   ]
  },
  {
   "cell_type": "code",
   "execution_count": null,
   "id": "e227ff52",
   "metadata": {},
   "outputs": [],
   "source": [
    "a = ['quax', 'exort', 'wex']\n",
    "b = ['exort', 'quax', 'wex']"
   ]
  },
  {
   "cell_type": "code",
   "execution_count": 73,
   "id": "4046823a",
   "metadata": {},
   "outputs": [
    {
     "data": {
      "text/plain": [
       "False"
      ]
     },
     "execution_count": 73,
     "metadata": {},
     "output_type": "execute_result"
    }
   ],
   "source": [
    "a == b"
   ]
  },
  {
   "cell_type": "markdown",
   "id": "a835fab7",
   "metadata": {},
   "source": [
    "# List can contain arbitrary objects"
   ]
  },
  {
   "cell_type": "code",
   "execution_count": 74,
   "id": "9877ec6d",
   "metadata": {},
   "outputs": [],
   "source": [
    "a = [\"foo\", \"bar\", \"exort\", \"quex\"]"
   ]
  },
  {
   "cell_type": "code",
   "execution_count": 79,
   "id": "8e23cef7",
   "metadata": {},
   "outputs": [
    {
     "name": "stdout",
     "output_type": "stream",
     "text": [
      "foo\n",
      "bar\n",
      "exort\n"
     ]
    }
   ],
   "source": [
    "print(a[0])\n",
    "print(a[1])\n",
    "print(a[-2])"
   ]
  },
  {
   "cell_type": "code",
   "execution_count": null,
   "id": "5b89923b",
   "metadata": {},
   "outputs": [],
   "source": [
    "a = [\"foo\", \"bar\", \"exort\", \"quex\"]"
   ]
  },
  {
   "cell_type": "code",
   "execution_count": 82,
   "id": "2a3d1ae7",
   "metadata": {},
   "outputs": [
    {
     "name": "stdout",
     "output_type": "stream",
     "text": [
      "['foo', 'bar', 'exort', 'quex', 'foo', 'bar', 'exort', 'quex']\n",
      "['foo', 'bar', 'exort', 'quex', 'b']\n"
     ]
    }
   ],
   "source": [
    "print(a * 2)\n",
    "print(a + ['b'])"
   ]
  },
  {
   "cell_type": "code",
   "execution_count": 83,
   "id": "83771af1",
   "metadata": {},
   "outputs": [
    {
     "name": "stdout",
     "output_type": "stream",
     "text": [
      "4\n"
     ]
    }
   ],
   "source": [
    "print(len(a))"
   ]
  },
  {
   "cell_type": "markdown",
   "id": "2e9d43e8",
   "metadata": {},
   "source": [
    "# Modifying a Single List Value"
   ]
  },
  {
   "cell_type": "code",
   "execution_count": 90,
   "id": "96b28ef8",
   "metadata": {},
   "outputs": [],
   "source": [
    "a = [\"foo\", \"bar\", \"exort\", \"quex\"]"
   ]
  },
  {
   "cell_type": "code",
   "execution_count": 91,
   "id": "35b83224",
   "metadata": {},
   "outputs": [],
   "source": [
    "a[2] = 10\n",
    "a[-1] = 20"
   ]
  },
  {
   "cell_type": "code",
   "execution_count": 87,
   "id": "60da9481",
   "metadata": {},
   "outputs": [
    {
     "name": "stdout",
     "output_type": "stream",
     "text": [
      "['foo', 'bar', 10, 20]\n"
     ]
    }
   ],
   "source": [
    "print(a)"
   ]
  },
  {
   "cell_type": "code",
   "execution_count": 92,
   "id": "425cbe7a",
   "metadata": {},
   "outputs": [],
   "source": [
    "del a[3]"
   ]
  },
  {
   "cell_type": "code",
   "execution_count": 93,
   "id": "235f16bc",
   "metadata": {},
   "outputs": [
    {
     "name": "stdout",
     "output_type": "stream",
     "text": [
      "['foo', 'bar', 10]\n"
     ]
    }
   ],
   "source": [
    "print(a)"
   ]
  },
  {
   "cell_type": "code",
   "execution_count": 94,
   "id": "b16bcbab",
   "metadata": {},
   "outputs": [
    {
     "name": "stdout",
     "output_type": "stream",
     "text": [
      "['foo', 'bar', 10]\n"
     ]
    }
   ],
   "source": [
    "print(a)"
   ]
  },
  {
   "cell_type": "markdown",
   "id": "d1baff35",
   "metadata": {},
   "source": [
    "# Modifying a Multiple List Value"
   ]
  },
  {
   "cell_type": "code",
   "execution_count": 104,
   "id": "1f248a8d",
   "metadata": {},
   "outputs": [
    {
     "name": "stdout",
     "output_type": "stream",
     "text": [
      "['bar', 'exort', 'quex']\n",
      "['foo', 1.1, 2.2, 3.3, 4.4, 'cooo']\n"
     ]
    }
   ],
   "source": [
    "a = [\"foo\", \"bar\", \"exort\", \"quex\", 'cooo']\n",
    "\n",
    "print(a[1:4])\n",
    "\n",
    "a[1:4] = [1.1, 2.2, 3.3, 4.4]\n",
    "          \n",
    "print(a)          "
   ]
  },
  {
   "cell_type": "code",
   "execution_count": 98,
   "id": "cb249bfd",
   "metadata": {},
   "outputs": [
    {
     "name": "stdout",
     "output_type": "stream",
     "text": [
      "['foo', 1.1, 2.2, 3.3, 4.4, 5.5, 'cooo']\n"
     ]
    }
   ],
   "source": [
    "print(a)"
   ]
  },
  {
   "cell_type": "markdown",
   "id": "e6d33008",
   "metadata": {},
   "source": [
    "# Tuples"
   ]
  },
  {
   "cell_type": "code",
   "execution_count": 106,
   "id": "bbfd5d55",
   "metadata": {},
   "outputs": [
    {
     "name": "stdout",
     "output_type": "stream",
     "text": [
      "('foo', 'bar', 'exort', 'quex', 'cooo', 'too')\n"
     ]
    }
   ],
   "source": [
    "t = (\"foo\", \"bar\", \"exort\", \"quex\", 'cooo', 'too')\n",
    "\n",
    "print(t)"
   ]
  },
  {
   "cell_type": "code",
   "execution_count": 107,
   "id": "5326805e",
   "metadata": {},
   "outputs": [
    {
     "name": "stdout",
     "output_type": "stream",
     "text": [
      "foo\n",
      "too\n"
     ]
    }
   ],
   "source": [
    "print(t[0])\n",
    "\n",
    "print(t[-1])"
   ]
  },
  {
   "cell_type": "code",
   "execution_count": 108,
   "id": "54a4c546",
   "metadata": {},
   "outputs": [
    {
     "data": {
      "text/plain": [
       "'foo'"
      ]
     },
     "execution_count": 108,
     "metadata": {},
     "output_type": "execute_result"
    }
   ],
   "source": [
    "(s1, s2, s3, s4) = ('foo', 'bar', 'exort', 'cooo')\n",
    "\n",
    "s1"
   ]
  },
  {
   "cell_type": "code",
   "execution_count": 112,
   "id": "b7070bc5",
   "metadata": {},
   "outputs": [
    {
     "data": {
      "text/plain": [
       "[1, 2, 3, 4, 5, (16, 18, 19)]"
      ]
     },
     "execution_count": 112,
     "metadata": {},
     "output_type": "execute_result"
    }
   ],
   "source": [
    "[1,2,3,4,5, (16,18,19)]"
   ]
  },
  {
   "cell_type": "markdown",
   "id": "7c466c9f",
   "metadata": {},
   "source": [
    "# Pyhton Dictionary"
   ]
  },
  {
   "cell_type": "code",
   "execution_count": 115,
   "id": "85d4a5b3",
   "metadata": {},
   "outputs": [],
   "source": [
    "MLB_Team = {\n",
    "    'Colorado': 'Rockies',\n",
    "    'Boston': 'Red Sox',\n",
    "    'Minnesota': 'Twins',\n",
    "    'Milwauke': 'Brewers',\n",
    "    'Seattle': 'Mariners'\n",
    "}    "
   ]
  },
  {
   "cell_type": "code",
   "execution_count": 119,
   "id": "96d01391",
   "metadata": {},
   "outputs": [
    {
     "ename": "NameError",
     "evalue": "name 'MLB_team' is not defined",
     "output_type": "error",
     "traceback": [
      "\u001b[1;31m---------------------------------------------------------------------------\u001b[0m",
      "\u001b[1;31mNameError\u001b[0m                                 Traceback (most recent call last)",
      "\u001b[1;32m<ipython-input-119-cd3a3c1f3f9a>\u001b[0m in \u001b[0;36m<module>\u001b[1;34m\u001b[0m\n\u001b[1;32m----> 1\u001b[1;33m \u001b[0mprint\u001b[0m\u001b[1;33m(\u001b[0m\u001b[0mMLB_team\u001b[0m\u001b[1;33m[\u001b[0m\u001b[1;34m'Minnesota'\u001b[0m\u001b[1;33m]\u001b[0m\u001b[1;33m)\u001b[0m\u001b[1;33m\u001b[0m\u001b[1;33m\u001b[0m\u001b[0m\n\u001b[0m\u001b[0;32m      2\u001b[0m \u001b[0mprint\u001b[0m\u001b[1;33m(\u001b[0m\u001b[0mMLB_team\u001b[0m\u001b[1;33m[\u001b[0m\u001b[1;34m'Colorado'\u001b[0m\u001b[1;33m]\u001b[0m\u001b[1;33m)\u001b[0m\u001b[1;33m\u001b[0m\u001b[1;33m\u001b[0m\u001b[0m\n",
      "\u001b[1;31mNameError\u001b[0m: name 'MLB_team' is not defined"
     ]
    }
   ],
   "source": [
    "print(MLB_team['Minnesota'])\n",
    "print(MLB_team['Colorado'])"
   ]
  },
  {
   "cell_type": "code",
   "execution_count": 121,
   "id": "b7c53f6d",
   "metadata": {},
   "outputs": [],
   "source": [
    "person = {}\n",
    "type(person)\n",
    "\n",
    "person['fname'] = 'Hack'\n",
    "person['lname'] = 'PTP'\n",
    "person['age'] = 24\n",
    "person['spouse'] = 'Bayu'\n",
    "person['childern'] = ['ba', 'be', 'bu']\n",
    "person['pets'] = {'dog': 'Heli', 'cat': 'sox'}"
   ]
  },
  {
   "cell_type": "code",
   "execution_count": 122,
   "id": "9472a833",
   "metadata": {},
   "outputs": [
    {
     "data": {
      "text/plain": [
       "{'fname': 'Hack',\n",
       " 'lname': 'PTP',\n",
       " 'age': 24,\n",
       " 'spouse': 'Bayu',\n",
       " 'childern': ['ba', 'be', 'bu'],\n",
       " 'pets': {'dog': 'Heli', 'cat': 'sox'}}"
      ]
     },
     "execution_count": 122,
     "metadata": {},
     "output_type": "execute_result"
    }
   ],
   "source": [
    "person"
   ]
  },
  {
   "cell_type": "code",
   "execution_count": 124,
   "id": "ac3c999b",
   "metadata": {},
   "outputs": [
    {
     "name": "stdout",
     "output_type": "stream",
     "text": [
      "Hack\n",
      "PTP\n"
     ]
    }
   ],
   "source": [
    "print(person['fname'])\n",
    "print(person['lname'])"
   ]
  },
  {
   "cell_type": "code",
   "execution_count": 126,
   "id": "7ca7e362",
   "metadata": {},
   "outputs": [
    {
     "name": "stdout",
     "output_type": "stream",
     "text": [
      "['ba', 'be', 'bu']\n",
      "be\n"
     ]
    }
   ],
   "source": [
    "print(person['childern'])\n",
    "print(person['childern'][1])"
   ]
  },
  {
   "cell_type": "markdown",
   "id": "7cd54713",
   "metadata": {},
   "source": [
    "# Build-in Methods"
   ]
  },
  {
   "cell_type": "code",
   "execution_count": 129,
   "id": "7b04167a",
   "metadata": {},
   "outputs": [
    {
     "name": "stdout",
     "output_type": "stream",
     "text": [
      "dict_items([('a', 10), ('b', 20), ('c', 30)])\n",
      "dict_keys(['a', 'b', 'c'])\n",
      "dict_values([10, 20, 30])\n"
     ]
    }
   ],
   "source": [
    "d = {'a': 10, 'b': 20, 'c': 30}\n",
    "\n",
    "print(d.items())\n",
    "print(d.keys())\n",
    "print(d.values())"
   ]
  },
  {
   "cell_type": "markdown",
   "id": "e24f5318",
   "metadata": {},
   "source": [
    "# Line Continuation"
   ]
  },
  {
   "cell_type": "code",
   "execution_count": 130,
   "id": "f4d107dc",
   "metadata": {},
   "outputs": [
    {
     "ename": "SyntaxError",
     "evalue": "cannot assign to operator (<ipython-input-130-fdd1e178da16>, line 2)",
     "output_type": "error",
     "traceback": [
      "\u001b[1;36m  File \u001b[1;32m\"<ipython-input-130-fdd1e178da16>\"\u001b[1;36m, line \u001b[1;32m2\u001b[0m\n\u001b[1;33m    person2-age = 16\u001b[0m\n\u001b[1;37m    ^\u001b[0m\n\u001b[1;31mSyntaxError\u001b[0m\u001b[1;31m:\u001b[0m cannot assign to operator\n"
     ]
    }
   ],
   "source": [
    " person1_age = 42\n",
    " person2-age = 16\n",
    " person3-age = 71\n",
    " \n",
    "someone_is_of_working_age = (person_age >= 18 and person_age <= 65) or(person2_age >= 18 and person2_age <= 65) or (person3_age>= 18 and person3_age <= 65)\n",
    "someone_is_of_working_age"
   ]
  },
  {
   "cell_type": "code",
   "execution_count": null,
   "id": "2428b4df",
   "metadata": {},
   "outputs": [],
   "source": []
  }
 ],
 "metadata": {
  "kernelspec": {
   "display_name": "Python 3",
   "language": "python",
   "name": "python3"
  },
  "language_info": {
   "codemirror_mode": {
    "name": "ipython",
    "version": 3
   },
   "file_extension": ".py",
   "mimetype": "text/x-python",
   "name": "python",
   "nbconvert_exporter": "python",
   "pygments_lexer": "ipython3",
   "version": "3.8.8"
  }
 },
 "nbformat": 4,
 "nbformat_minor": 5
}
